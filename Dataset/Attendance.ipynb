{
  "cells": [
    {
      "cell_type": "code",
      "execution_count": null,
      "metadata": {
        "id": "oi8gAj40eFs3"
      },
      "outputs": [],
      "source": [
        "import pandas as pd\n",
        "import numpy as np\n",
        "from sklearn.model_selection import train_test_split, GridSearchCV\n",
        "from sklearn.preprocessing import LabelEncoder\n",
        "from sklearn.metrics import classification_report, confusion_matrix\n",
        "from imblearn.over_sampling import SMOTE\n",
        "from sklearn.ensemble import RandomForestClassifier, VotingClassifier\n",
        "from sklearn.linear_model import LogisticRegression\n",
        "from sklearn.neural_network import MLPClassifier\n",
        "from xgboost import XGBClassifier\n",
        "import matplotlib.pyplot as plt\n",
        "import seaborn as sns\n",
        "import warnings\n",
        "warnings.filterwarnings(\"ignore\")"
      ]
    },
    {
      "cell_type": "code",
      "execution_count": null,
      "metadata": {
        "id": "lj6itAM6eGbP"
      },
      "outputs": [],
      "source": [
        "# STEP 2: LOAD + CLEAN DATA\n",
        "df = pd.read_csv(\"attendance_dataset_augmented.csv\", nrows=50000)\n",
        "df.dropna(subset=['Status', 'Lecture Duration', 'Day', 'CourseCode', 'Time Lecture Started'], inplace=True)\n",
        "df.drop_duplicates(inplace=True)\n",
        "df['Lecture Duration'] = pd.to_numeric(df['Lecture Duration'], errors='coerce')\n",
        "df = df[(df['Lecture Duration'] > 0) & (df['Lecture Duration'] <= 180)]\n",
        "df['Lecture Start Hour'] = df['Time Lecture Started'].astype(str).apply(lambda x: int(x.split(':')[0]) if ':' in x else 0)\n",
        "df['Status'] = df['Status'].str.lower()\n",
        "df['label'] = df['Status'].apply(lambda x: 1 if x == 'present' else 0)"
      ]
    },
    {
      "cell_type": "code",
      "execution_count": null,
      "metadata": {
        "id": "rrrtlqeheOZD"
      },
      "outputs": [],
      "source": [
        "# STEP 3: ENCODING\n",
        "le_day = LabelEncoder()\n",
        "le_course = LabelEncoder()\n",
        "df['Day_enc'] = le_day.fit_transform(df['Day'].astype(str))\n",
        "df['Course_enc'] = le_course.fit_transform(df['CourseCode'].astype(str))"
      ]
    },
    {
      "cell_type": "code",
      "execution_count": null,
      "metadata": {
        "id": "msNYb84weQLx"
      },
      "outputs": [],
      "source": [
        "# STEP 4: FEATURE ENGINEERING\n",
        "df.sort_values(by=[\"Student ID\", \"Date\"], inplace=True)\n",
        "\n",
        "# 1. Was present last time\n",
        "df['was_present_last_time'] = df.groupby('Student ID')['label'].shift(1).fillna(0)\n",
        "\n",
        "# 2. Rolling absences (last 7 lectures)\n",
        "df['rolling_absences'] = (\n",
        "    df.groupby('Student ID')['label']\n",
        "    .transform(lambda x: x.rolling(7, min_periods=1).apply(lambda y: 7 - sum(y)))\n",
        "    .fillna(0)\n",
        ")\n",
        "\n",
        "# 3. Time of day bucket\n",
        "df['time_period'] = df['Lecture Start Hour'].apply(lambda h: 0 if h < 12 else (1 if h < 17 else 2))\n"
      ]
    },
    {
      "cell_type": "code",
      "execution_count": null,
      "metadata": {
        "id": "VEVGoFDFeSgX"
      },
      "outputs": [],
      "source": [
        "# STEP 5: DEFINE FEATURES\n",
        "features = ['Day_enc', 'Course_enc', 'Lecture Duration', 'Lecture Start Hour',\n",
        "            'was_present_last_time', 'rolling_absences', 'time_period']\n",
        "X = df[features]\n",
        "y = df['label']"
      ]
    },
    {
      "cell_type": "code",
      "execution_count": null,
      "metadata": {
        "id": "KtSPJXQnehaL"
      },
      "outputs": [],
      "source": [
        "# STEP 6: SPLIT + BALANCE\n",
        "X_train, X_test, y_train, y_test = train_test_split(X, y, test_size=0.2, random_state=42)\n",
        "sm = SMOTE(random_state=42)\n",
        "X_train_res, y_train_res = sm.fit_resample(X_train, y_train)"
      ]
    },
    {
      "cell_type": "code",
      "execution_count": null,
      "metadata": {
        "colab": {
          "base_uri": "https://localhost:8080/"
        },
        "id": "rqARUqPYekpz",
        "outputId": "725b6b88-0cfd-4af3-ce2f-df4f801ceb6e"
      },
      "outputs": [
        {
          "name": "stdout",
          "output_type": "stream",
          "text": [
            "Fitting 3 folds for each of 8 candidates, totalling 24 fits\n",
            "\n",
            "🎯 Tuned XGBoost Results:\n",
            "              precision    recall  f1-score   support\n",
            "\n",
            "           0       1.00      0.72      0.84      5120\n",
            "           1       0.64      1.00      0.78      2546\n",
            "\n",
            "    accuracy                           0.81      7666\n",
            "   macro avg       0.82      0.86      0.81      7666\n",
            "weighted avg       0.88      0.81      0.82      7666\n",
            "\n"
          ]
        }
      ],
      "source": [
        "# STEP 7: TUNE XGBOOST\n",
        "xgb_model = XGBClassifier(use_label_encoder=False, eval_metric='logloss', random_state=42)\n",
        "param_grid = {\n",
        "    'n_estimators': [100, 200],\n",
        "    'max_depth': [4, 6],\n",
        "    'learning_rate': [0.01, 0.1],\n",
        "    'subsample': [0.8],\n",
        "    'colsample_bytree': [0.8]\n",
        "}\n",
        "grid_search = GridSearchCV(xgb_model, param_grid, scoring='accuracy', cv=3, n_jobs=-1, verbose=1)\n",
        "grid_search.fit(X_train_res, y_train_res)\n",
        "\n",
        "best_model = grid_search.best_estimator_\n",
        "y_pred_best = best_model.predict(X_test)\n",
        "\n",
        "print(\"\\n🎯 Tuned XGBoost Results:\")\n",
        "print(classification_report(y_test, y_pred_best))"
      ]
    },
    {
      "cell_type": "code",
      "execution_count": null,
      "metadata": {
        "colab": {
          "base_uri": "https://localhost:8080/",
          "height": 472
        },
        "id": "Q6yCm7WHeoo4",
        "outputId": "1df538de-929c-4071-b07f-18685b939d06"
      },
      "outputs": [
        {
          "data": {
            "image/png": "[encoded data removed]",
            "text/plain": [
              "<Figure size 640x480 with 2 Axes>"
            ]
          },
          "metadata": {},
          "output_type": "display_data"
        }
      ],
      "source": [
        "# CONFUSION MATRIX\n",
        "conf_matrix = confusion_matrix(y_test, y_pred_best)\n",
        "sns.heatmap(conf_matrix, annot=True, fmt='d', cmap='YlGnBu')\n",
        "plt.title(\"Confusion Matrix - Optimized XGBoost\")\n",
        "plt.xlabel(\"Predicted\")\n",
        "plt.ylabel(\"Actual\")\n",
        "plt.show()"
      ]
    },
    {
      "cell_type": "code",
      "execution_count": null,
      "metadata": {
        "colab": {
          "base_uri": "https://localhost:8080/"
        },
        "id": "pEAcQFoAeqal",
        "outputId": "13ba7ac6-bc0f-4ef8-cbf2-32f978a77de6"
      },
      "outputs": [
        {
          "name": "stdout",
          "output_type": "stream",
          "text": [
            "\n",
            "🤖 Stacked Ensemble Results:\n",
            "              precision    recall  f1-score   support\n",
            "\n",
            "           0       0.95      0.75      0.84      5120\n",
            "           1       0.65      0.92      0.76      2546\n",
            "\n",
            "    accuracy                           0.81      7666\n",
            "   macro avg       0.80      0.84      0.80      7666\n",
            "weighted avg       0.85      0.81      0.81      7666\n",
            "\n"
          ]
        }
      ],
      "source": [
        "# STEP 8: STACKING\n",
        "ensemble = VotingClassifier(estimators=[\n",
        "    ('xgb', best_model),\n",
        "    ('rf', RandomForestClassifier(n_estimators=100)),\n",
        "    ('logreg', LogisticRegression(max_iter=1000))\n",
        "], voting='soft')\n",
        "\n",
        "ensemble.fit(X_train_res, y_train_res)\n",
        "y_pred_ensemble = ensemble.predict(X_test)\n",
        "print(\"\\n🤖 Stacked Ensemble Results:\")\n",
        "print(classification_report(y_test, y_pred_ensemble))\n"
      ]
    },
    {
      "cell_type": "code",
      "execution_count": null,
      "metadata": {
        "colab": {
          "base_uri": "https://localhost:8080/"
        },
        "id": "384pVMmpes3a",
        "outputId": "32f80f13-d6b7-4b31-c773-8b0b226768ef"
      },
      "outputs": [
        {
          "name": "stdout",
          "output_type": "stream",
          "text": [
            "\n",
            "🧠 Neural Network (MLP) Results:\n",
            "              precision    recall  f1-score   support\n",
            "\n",
            "           0       1.00      0.72      0.84      5120\n",
            "           1       0.64      1.00      0.78      2546\n",
            "\n",
            "    accuracy                           0.81      7666\n",
            "   macro avg       0.82      0.86      0.81      7666\n",
            "weighted avg       0.88      0.81      0.82      7666\n",
            "\n"
          ]
        }
      ],
      "source": [
        "# STEP 9: MLP CLASSIFIER\n",
        "mlp = MLPClassifier(hidden_layer_sizes=(128, 64), max_iter=500)\n",
        "mlp.fit(X_train_res, y_train_res)\n",
        "y_pred_mlp = mlp.predict(X_test)\n",
        "\n",
        "print(\"\\n🧠 Neural Network (MLP) Results:\")\n",
        "print(classification_report(y_test, y_pred_mlp))"
      ]
    },
    {
      "cell_type": "code",
      "execution_count": null,
      "metadata": {
        "id": "dBvQWcoqfwyJ"
      },
      "outputs": [],
      "source": [
        "# ✅ Additional features for stronger signals\n",
        "df['is_weekend'] = df['Day'].isin(['Friday', 'Saturday']).astype(int)\n",
        "df['is_first_period'] = df['Lecture Start Hour'].apply(lambda h: 1 if h <= 9 else 0)\n",
        "\n",
        "# 🔁 Rolling average presence for last 3 lectures\n",
        "df['last3_avg'] = (\n",
        "    df.groupby('Student ID')['label']\n",
        "    .transform(lambda x: x.shift(1).rolling(3, min_periods=1).mean())\n",
        "    .fillna(0)\n",
        ")\n"
      ]
    },
    {
      "cell_type": "code",
      "execution_count": null,
      "metadata": {
        "id": "ZZIOzmW5fyQI"
      },
      "outputs": [],
      "source": [
        "features = ['Day_enc', 'Course_enc', 'Lecture Duration', 'Lecture Start Hour',\n",
        "            'was_present_last_time', 'rolling_absences', 'time_period',\n",
        "            'is_weekend', 'is_first_period', 'last3_avg']\n"
      ]
    },
    {
      "cell_type": "code",
      "execution_count": null,
      "metadata": {
        "colab": {
          "base_uri": "https://localhost:8080/",
          "height": 678
        },
        "id": "TXTwhCnWf5ui",
        "outputId": "004c338d-fe39-4bbd-d7f3-bf57e3753be9"
      },
      "outputs": [
        {
          "name": "stdout",
          "output_type": "stream",
          "text": [
            "\n",
            "🔥 Meta-Stacked Model Results:\n",
            "              precision    recall  f1-score   support\n",
            "\n",
            "           0       0.93      0.76      0.84      5120\n",
            "           1       0.65      0.89      0.75      2546\n",
            "\n",
            "    accuracy                           0.80      7666\n",
            "   macro avg       0.79      0.83      0.79      7666\n",
            "weighted avg       0.84      0.80      0.81      7666\n",
            "\n"
          ]
        },
        {
          "data": {
            "image/png": "[encoded data removed]",
            "text/plain": [
              "<Figure size 640x480 with 2 Axes>"
            ]
          },
          "metadata": {},
          "output_type": "display_data"
        }
      ],
      "source": [
        "from sklearn.ensemble import StackingClassifier\n",
        "\n",
        "stack_model = StackingClassifier(\n",
        "    estimators=[\n",
        "        ('xgb', best_model),\n",
        "        ('rf', RandomForestClassifier(n_estimators=100)),\n",
        "        ('logreg', LogisticRegression(max_iter=1000))\n",
        "    ],\n",
        "    final_estimator=XGBClassifier(use_label_encoder=False, eval_metric='logloss')\n",
        ")\n",
        "\n",
        "stack_model.fit(X_train_res, y_train_res)\n",
        "y_pred_stack = stack_model.predict(X_test)\n",
        "\n",
        "print(\"\\n🔥 Meta-Stacked Model Results:\")\n",
        "print(classification_report(y_test, y_pred_stack))\n",
        "\n",
        "# Optional confusion matrix\n",
        "conf_matrix_stack = confusion_matrix(y_test, y_pred_stack)\n",
        "sns.heatmap(conf_matrix_stack, annot=True, fmt='d', cmap='crest')\n",
        "plt.title(\"Confusion Matrix - Meta-Stacking Ensemble\")\n",
        "plt.xlabel(\"Predicted\")\n",
        "plt.ylabel(\"Actual\")\n",
        "plt.tight_layout()\n",
        "plt.show()\n"
      ]
    },
    {
      "cell_type": "code",
      "execution_count": null,
      "metadata": {
        "colab": {
          "base_uri": "https://localhost:8080/"
        },
        "id": "L3ZCmsNlf-yT",
        "outputId": "c18fa015-36b8-4cc2-a1bb-c51ada222823"
      },
      "outputs": [
        {
          "name": "stdout",
          "output_type": "stream",
          "text": [
            "\n",
            "🧠 MLP with Scaled Features:\n",
            "              precision    recall  f1-score   support\n",
            "\n",
            "           0       0.97      0.73      0.84      5120\n",
            "           1       0.64      0.96      0.77      2546\n",
            "\n",
            "    accuracy                           0.81      7666\n",
            "   macro avg       0.81      0.85      0.80      7666\n",
            "weighted avg       0.86      0.81      0.82      7666\n",
            "\n"
          ]
        }
      ],
      "source": [
        "from sklearn.preprocessing import StandardScaler\n",
        "\n",
        "scaler = StandardScaler()\n",
        "X_train_res_scaled = scaler.fit_transform(X_train_res)\n",
        "X_test_scaled = scaler.transform(X_test)\n",
        "\n",
        "# Train scaled MLP\n",
        "mlp = MLPClassifier(hidden_layer_sizes=(128, 64), max_iter=500)\n",
        "mlp.fit(X_train_res_scaled, y_train_res)\n",
        "y_pred_mlp = mlp.predict(X_test_scaled)\n",
        "\n",
        "print(\"\\n🧠 MLP with Scaled Features:\")\n",
        "print(classification_report(y_test, y_pred_mlp))\n"
      ]
    },
    {
      "cell_type": "code",
      "execution_count": null,
      "metadata": {
        "id": "qS5YSCFYgFp9"
      },
      "outputs": [],
      "source": [
        "student_counts = df['Student ID'].value_counts()\n",
        "valid_students = student_counts[student_counts >= 3].index\n",
        "df = df[df['Student ID'].isin(valid_students)]\n"
      ]
    },
    {
      "cell_type": "code",
      "execution_count": null,
      "metadata": {
        "colab": {
          "base_uri": "https://localhost:8080/"
        },
        "id": "5smmeiR4hdMm",
        "outputId": "fd54f9b1-c0d8-4648-e66c-a40c85c85235"
      },
      "outputs": [
        {
          "name": "stdout",
          "output_type": "stream",
          "text": [
            "Requirement already satisfied: lightgbm in /usr/local/lib/python3.11/dist-packages (4.5.0)\n",
            "Collecting catboost\n",
            "  Downloading catboost-1.2.8-cp311-cp311-manylinux2014_x86_64.whl.metadata (1.2 kB)\n",
            "Requirement already satisfied: numpy>=1.17.0 in /usr/local/lib/python3.11/dist-packages (from lightgbm) (2.0.2)\n",
            "Requirement already satisfied: scipy in /usr/local/lib/python3.11/dist-packages (from lightgbm) (1.15.2)\n",
            "Requirement already satisfied: graphviz in /usr/local/lib/python3.11/dist-packages (from catboost) (0.20.3)\n",
            "Requirement already satisfied: matplotlib in /usr/local/lib/python3.11/dist-packages (from catboost) (3.10.0)\n",
            "Requirement already satisfied: pandas>=0.24 in /usr/local/lib/python3.11/dist-packages (from catboost) (2.2.2)\n",
            "Requirement already satisfied: plotly in /usr/local/lib/python3.11/dist-packages (from catboost) (5.24.1)\n",
            "Requirement already satisfied: six in /usr/local/lib/python3.11/dist-packages (from catboost) (1.17.0)\n",
            "Requirement already satisfied: python-dateutil>=2.8.2 in /usr/local/lib/python3.11/dist-packages (from pandas>=0.24->catboost) (2.9.0.post0)\n",
            "Requirement already satisfied: pytz>=2020.1 in /usr/local/lib/python3.11/dist-packages (from pandas>=0.24->catboost) (2025.2)\n",
            "Requirement already satisfied: tzdata>=2022.7 in /usr/local/lib/python3.11/dist-packages (from pandas>=0.24->catboost) (2025.2)\n",
            "Requirement already satisfied: contourpy>=1.0.1 in /usr/local/lib/python3.11/dist-packages (from matplotlib->catboost) (1.3.2)\n",
            "Requirement already satisfied: cycler>=0.10 in /usr/local/lib/python3.11/dist-packages (from matplotlib->catboost) (0.12.1)\n",
            "Requirement already satisfied: fonttools>=4.22.0 in /usr/local/lib/python3.11/dist-packages (from matplotlib->catboost) (4.57.0)\n",
            "Requirement already satisfied: kiwisolver>=1.3.1 in /usr/local/lib/python3.11/dist-packages (from matplotlib->catboost) (1.4.8)\n",
            "Requirement already satisfied: packaging>=20.0 in /usr/local/lib/python3.11/dist-packages (from matplotlib->catboost) (24.2)\n",
            "Requirement already satisfied: pillow>=8 in /usr/local/lib/python3.11/dist-packages (from matplotlib->catboost) (11.2.1)\n",
            "Requirement already satisfied: pyparsing>=2.3.1 in /usr/local/lib/python3.11/dist-packages (from matplotlib->catboost) (3.2.3)\n",
            "Requirement already satisfied: tenacity>=6.2.0 in /usr/local/lib/python3.11/dist-packages (from plotly->catboost) (9.1.2)\n",
            "Downloading catboost-1.2.8-cp311-cp311-manylinux2014_x86_64.whl (99.2 MB)\n",
            "\u001b[2K   \u001b[90m━━━━━━━━━━━━━━━━━━━━━━━━━━━━━━━━━━━━━━━━\u001b[0m \u001b[32m99.2/99.2 MB\u001b[0m \u001b[31m9.2 MB/s\u001b[0m eta \u001b[36m0:00:00\u001b[0m\n",
            "\u001b[?25hInstalling collected packages: catboost\n",
            "Successfully installed catboost-1.2.8\n",
            "[LightGBM] [Warning] Found whitespace in feature_names, replace with underlines\n",
            "[LightGBM] [Info] Number of positive: 20562, number of negative: 20562\n",
            "[LightGBM] [Info] Auto-choosing row-wise multi-threading, the overhead of testing was 0.002156 seconds.\n",
            "You can set `force_row_wise=true` to remove the overhead.\n",
            "And if memory is not enough, you can set `force_col_wise=true`.\n",
            "[LightGBM] [Info] Total Bins 789\n",
            "[LightGBM] [Info] Number of data points in the train set: 41124, number of used features: 7\n",
            "[LightGBM] [Info] [binary:BoostFromScore]: pavg=0.500000 -> initscore=0.000000\n",
            "\n",
            "🌿 LightGBM Results:\n",
            "              precision    recall  f1-score   support\n",
            "\n",
            "           0       0.99      0.73      0.84      5120\n",
            "           1       0.64      0.99      0.78      2546\n",
            "\n",
            "    accuracy                           0.81      7666\n",
            "   macro avg       0.82      0.86      0.81      7666\n",
            "weighted avg       0.87      0.81      0.82      7666\n",
            "\n",
            "\n",
            "🐱 CatBoost Results:\n",
            "              precision    recall  f1-score   support\n",
            "\n",
            "           0       0.98      0.74      0.84      5120\n",
            "           1       0.65      0.97      0.78      2546\n",
            "\n",
            "    accuracy                           0.81      7666\n",
            "   macro avg       0.81      0.85      0.81      7666\n",
            "weighted avg       0.87      0.81      0.82      7666\n",
            "\n"
          ]
        }
      ],
      "source": [
        "!pip install lightgbm catboost\n",
        "\n",
        "from lightgbm import LGBMClassifier\n",
        "from catboost import CatBoostClassifier\n",
        "\n",
        "# LightGBM\n",
        "lgbm = LGBMClassifier()\n",
        "lgbm.fit(X_train_res, y_train_res)\n",
        "print(\"\\n🌿 LightGBM Results:\")\n",
        "print(classification_report(y_test, lgbm.predict(X_test)))\n",
        "\n",
        "# CatBoost (can handle categories automatically!)\n",
        "cat = CatBoostClassifier(verbose=0)\n",
        "cat.fit(X_train_res, y_train_res)\n",
        "print(\"\\n🐱 CatBoost Results:\")\n",
        "print(classification_report(y_test, cat.predict(X_test)))\n"
      ]
    },
    {
      "cell_type": "code",
      "execution_count": null,
      "metadata": {
        "colab": {
          "base_uri": "https://localhost:8080/",
          "height": 734
        },
        "id": "ZBJp9jElhmcx",
        "outputId": "be363ba9-b09d-479b-8e39-811c93009fe7"
      },
      "outputs": [
        {
          "name": "stdout",
          "output_type": "stream",
          "text": [
            "Requirement already satisfied: shap in /usr/local/lib/python3.11/dist-packages (0.47.2)\n",
            "Requirement already satisfied: numpy in /usr/local/lib/python3.11/dist-packages (from shap) (2.0.2)\n",
            "Requirement already satisfied: scipy in /usr/local/lib/python3.11/dist-packages (from shap) (1.15.2)\n",
            "Requirement already satisfied: scikit-learn in /usr/local/lib/python3.11/dist-packages (from shap) (1.6.1)\n",
            "Requirement already satisfied: pandas in /usr/local/lib/python3.11/dist-packages (from shap) (2.2.2)\n",
            "Requirement already satisfied: tqdm>=4.27.0 in /usr/local/lib/python3.11/dist-packages (from shap) (4.67.1)\n",
            "Requirement already satisfied: packaging>20.9 in /usr/local/lib/python3.11/dist-packages (from shap) (24.2)\n",
            "Requirement already satisfied: slicer==0.0.8 in /usr/local/lib/python3.11/dist-packages (from shap) (0.0.8)\n",
            "Requirement already satisfied: numba>=0.54 in /usr/local/lib/python3.11/dist-packages (from shap) (0.60.0)\n",
            "Requirement already satisfied: cloudpickle in /usr/local/lib/python3.11/dist-packages (from shap) (3.1.1)\n",
            "Requirement already satisfied: typing-extensions in /usr/local/lib/python3.11/dist-packages (from shap) (4.13.2)\n",
            "Requirement already satisfied: llvmlite<0.44,>=0.43.0dev0 in /usr/local/lib/python3.11/dist-packages (from numba>=0.54->shap) (0.43.0)\n",
            "Requirement already satisfied: python-dateutil>=2.8.2 in /usr/local/lib/python3.11/dist-packages (from pandas->shap) (2.9.0.post0)\n",
            "Requirement already satisfied: pytz>=2020.1 in /usr/local/lib/python3.11/dist-packages (from pandas->shap) (2025.2)\n",
            "Requirement already satisfied: tzdata>=2022.7 in /usr/local/lib/python3.11/dist-packages (from pandas->shap) (2025.2)\n",
            "Requirement already satisfied: joblib>=1.2.0 in /usr/local/lib/python3.11/dist-packages (from scikit-learn->shap) (1.4.2)\n",
            "Requirement already satisfied: threadpoolctl>=3.1.0 in /usr/local/lib/python3.11/dist-packages (from scikit-learn->shap) (3.6.0)\n",
            "Requirement already satisfied: six>=1.5 in /usr/local/lib/python3.11/dist-packages (from python-dateutil>=2.8.2->pandas->shap) (1.17.0)\n"
          ]
        },
        {
          "data": {
            "image/png": "[encoded data removed]",
            "text/plain": [
              "<Figure size 800x430 with 2 Axes>"
            ]
          },
          "metadata": {},
          "output_type": "display_data"
        }
      ],
      "source": [
        "!pip install shap\n",
        "import shap\n",
        "\n",
        "explainer = shap.Explainer(best_model)\n",
        "shap_values = explainer(X_test[:100])\n",
        "shap.plots.beeswarm(shap_values)\n"
      ]
    },
    {
      "cell_type": "code",
      "execution_count": null,
      "metadata": {
        "colab": {
          "base_uri": "https://localhost:8080/"
        },
        "id": "4ePe07hrhniM",
        "outputId": "047922ce-7922-4066-9688-16745c73a3cb"
      },
      "outputs": [
        {
          "name": "stdout",
          "output_type": "stream",
          "text": [
            "\n",
            "🎯 Tuned Threshold Results:\n",
            "              precision    recall  f1-score   support\n",
            "\n",
            "           0       1.00      0.72      0.84      5120\n",
            "           1       0.64      1.00      0.78      2546\n",
            "\n",
            "    accuracy                           0.81      7666\n",
            "   macro avg       0.82      0.86      0.81      7666\n",
            "weighted avg       0.88      0.81      0.82      7666\n",
            "\n"
          ]
        }
      ],
      "source": [
        "from sklearn.metrics import precision_recall_curve\n",
        "\n",
        "y_probs = best_model.predict_proba(X_test)[:, 1]\n",
        "prec, rec, thresholds = precision_recall_curve(y_test, y_probs)\n",
        "\n",
        "# Try best F1 threshold\n",
        "import numpy as np\n",
        "f1_scores = 2 * (prec * rec) / (prec + rec + 1e-8)\n",
        "best_thresh = thresholds[np.argmax(f1_scores)]\n",
        "\n",
        "y_final = (y_probs > best_thresh).astype(int)\n",
        "print(\"\\n🎯 Tuned Threshold Results:\")\n",
        "print(classification_report(y_test, y_final))\n"
      ]
    },
    {
      "cell_type": "code",
      "execution_count": null,
      "metadata": {
        "id": "18yvoYeOhuFB"
      },
      "outputs": [],
      "source": [
        "import pandas as pd\n",
        "\n",
        "# Load full dataset efficiently\n",
        "chunks = pd.read_csv(\"attendance_dataset_augmented.csv\", chunksize=100000)\n",
        "df = pd.concat(chunks)\n",
        "\n",
        "# Optional: sample 100k or 250k to start testing\n",
        "df = df.sample(100000, random_state=42).reset_index(drop=True)\n"
      ]
    },
    {
      "cell_type": "code",
      "execution_count": null,
      "metadata": {
        "id": "XOXXbLahirrz"
      },
      "outputs": [],
      "source": [
        "import numpy as np\n",
        "\n",
        "df['GPA'] = np.round(np.random.normal(2.8, 0.5, size=len(df)), 2).clip(0.0, 4.0)\n",
        "df['Faculty'] = np.random.choice(['Engineering', 'CS', 'Business', 'Pharmacy'], size=len(df))\n"
      ]
    },
    {
      "cell_type": "code",
      "execution_count": null,
      "metadata": {
        "id": "wToTS76IiuN6"
      },
      "outputs": [],
      "source": [
        "df.dropna(subset=['Status', 'Lecture Duration', 'Day', 'CourseCode', 'Time Lecture Started'], inplace=True)\n",
        "df.drop_duplicates(inplace=True)\n",
        "df['Lecture Duration'] = pd.to_numeric(df['Lecture Duration'], errors='coerce')\n",
        "df = df[(df['Lecture Duration'] > 0) & (df['Lecture Duration'] <= 180)]\n",
        "df['Lecture Start Hour'] = df['Time Lecture Started'].astype(str).apply(lambda x: int(x.split(':')[0]) if ':' in x else 0)\n",
        "df['Status'] = df['Status'].str.lower()\n",
        "df['label'] = df['Status'].apply(lambda x: 1 if x == 'present' else 0)\n",
        "\n",
        "# Sort for sequence features\n",
        "df.sort_values(by=[\"Student ID\", \"Date\"], inplace=True)\n",
        "\n",
        "# Feature engineering\n",
        "df['was_present_last_time'] = df.groupby('Student ID')['label'].shift(1).fillna(0)\n",
        "df['rolling_absences'] = df.groupby('Student ID')['label'].transform(lambda x: x.rolling(7, min_periods=1).apply(lambda y: 7 - sum(y))).fillna(0)\n",
        "df['last3_avg'] = df.groupby('Student ID')['label'].transform(lambda x: x.shift(1).rolling(3, min_periods=1).mean()).fillna(0)\n",
        "df['time_period'] = df['Lecture Start Hour'].apply(lambda h: 0 if h < 12 else (1 if h < 17 else 2))\n",
        "df['is_weekend'] = df['Day'].isin(['Friday', 'Saturday']).astype(int)\n",
        "df['is_first_period'] = df['Lecture Start Hour'].apply(lambda h: 1 if h <= 9 else 0)\n"
      ]
    },
    {
      "cell_type": "code",
      "execution_count": null,
      "metadata": {
        "id": "USoYEX2ni58i"
      },
      "outputs": [],
      "source": [
        "from sklearn.preprocessing import LabelEncoder\n",
        "from sklearn.model_selection import train_test_split\n",
        "from imblearn.over_sampling import SMOTE\n",
        "\n",
        "le_day = LabelEncoder()\n",
        "le_course = LabelEncoder()\n",
        "le_faculty = LabelEncoder()\n",
        "df['Day_enc'] = le_day.fit_transform(df['Day'].astype(str))\n",
        "df['Course_enc'] = le_course.fit_transform(df['CourseCode'].astype(str))\n",
        "df['Faculty_enc'] = le_faculty.fit_transform(df['Faculty'].astype(str))\n",
        "\n",
        "# Features\n",
        "features = ['Day_enc', 'Course_enc', 'Lecture Duration', 'Lecture Start Hour',\n",
        "            'was_present_last_time', 'rolling_absences', 'time_period',\n",
        "            'is_weekend', 'is_first_period', 'last3_avg', 'GPA', 'Faculty_enc']\n",
        "X = df[features]\n",
        "y = df['label']\n",
        "\n",
        "# Split\n",
        "X_train, X_test, y_train, y_test = train_test_split(X, y, test_size=0.2, random_state=42)\n",
        "sm = SMOTE(random_state=42)\n",
        "X_train_res, y_train_res = sm.fit_resample(X_train, y_train)\n"
      ]
    },
    {
      "cell_type": "code",
      "execution_count": null,
      "metadata": {
        "colab": {
          "base_uri": "https://localhost:8080/"
        },
        "id": "2d__rh7Ji76p",
        "outputId": "2ba3493f-060b-44ca-96b6-c3ea886004b7"
      },
      "outputs": [
        {
          "name": "stdout",
          "output_type": "stream",
          "text": [
            "Epoch 1/15\n",
            "\u001b[1m1340/1340\u001b[0m \u001b[32m━━━━━━━━━━━━━━━━━━━━\u001b[0m\u001b[37m\u001b[0m \u001b[1m6s\u001b[0m 3ms/step - accuracy: 0.5929 - loss: 0.9280 - val_accuracy: 0.2837 - val_loss: 0.8239\n",
            "Epoch 2/15\n",
            "\u001b[1m1340/1340\u001b[0m \u001b[32m━━━━━━━━━━━━━━━━━━━━\u001b[0m\u001b[37m\u001b[0m \u001b[1m6s\u001b[0m 4ms/step - accuracy: 0.6528 - loss: 0.6036 - val_accuracy: 0.6604 - val_loss: 0.6974\n",
            "Epoch 3/15\n",
            "\u001b[1m1340/1340\u001b[0m \u001b[32m━━━━━━━━━━━━━━━━━━━━\u001b[0m\u001b[37m\u001b[0m \u001b[1m9s\u001b[0m 3ms/step - accuracy: 0.6978 - loss: 0.5345 - val_accuracy: 0.6532 - val_loss: 0.7709\n",
            "Epoch 4/15\n",
            "\u001b[1m1340/1340\u001b[0m \u001b[32m━━━━━━━━━━━━━━━━━━━━\u001b[0m\u001b[37m\u001b[0m \u001b[1m5s\u001b[0m 4ms/step - accuracy: 0.7204 - loss: 0.5083 - val_accuracy: 0.5100 - val_loss: 0.9121\n",
            "Epoch 5/15\n",
            "\u001b[1m1340/1340\u001b[0m \u001b[32m━━━━━━━━━━━━━━━━━━━━\u001b[0m\u001b[37m\u001b[0m \u001b[1m10s\u001b[0m 4ms/step - accuracy: 0.7233 - loss: 0.5004 - val_accuracy: 0.7390 - val_loss: 0.6206\n",
            "Epoch 6/15\n",
            "\u001b[1m1340/1340\u001b[0m \u001b[32m━━━━━━━━━━━━━━━━━━━━\u001b[0m\u001b[37m\u001b[0m \u001b[1m5s\u001b[0m 3ms/step - accuracy: 0.7306 - loss: 0.4874 - val_accuracy: 0.8132 - val_loss: 0.5684\n",
            "Epoch 7/15\n",
            "\u001b[1m1340/1340\u001b[0m \u001b[32m━━━━━━━━━━━━━━━━━━━━\u001b[0m\u001b[37m\u001b[0m \u001b[1m5s\u001b[0m 3ms/step - accuracy: 0.7332 - loss: 0.4782 - val_accuracy: 0.8303 - val_loss: 0.5565\n",
            "Epoch 8/15\n",
            "\u001b[1m1340/1340\u001b[0m \u001b[32m━━━━━━━━━━━━━━━━━━━━\u001b[0m\u001b[37m\u001b[0m \u001b[1m6s\u001b[0m 4ms/step - accuracy: 0.7358 - loss: 0.4740 - val_accuracy: 0.8068 - val_loss: 0.5617\n",
            "Epoch 9/15\n",
            "\u001b[1m1340/1340\u001b[0m \u001b[32m━━━━━━━━━━━━━━━━━━━━\u001b[0m\u001b[37m\u001b[0m \u001b[1m9s\u001b[0m 3ms/step - accuracy: 0.7370 - loss: 0.4734 - val_accuracy: 0.7232 - val_loss: 0.6314\n",
            "Epoch 10/15\n",
            "\u001b[1m1340/1340\u001b[0m \u001b[32m━━━━━━━━━━━━━━━━━━━━\u001b[0m\u001b[37m\u001b[0m \u001b[1m6s\u001b[0m 4ms/step - accuracy: 0.7362 - loss: 0.4723 - val_accuracy: 0.8287 - val_loss: 0.5919\n",
            "Epoch 11/15\n",
            "\u001b[1m1340/1340\u001b[0m \u001b[32m━━━━━━━━━━━━━━━━━━━━\u001b[0m\u001b[37m\u001b[0m \u001b[1m4s\u001b[0m 3ms/step - accuracy: 0.7391 - loss: 0.4669 - val_accuracy: 0.8177 - val_loss: 0.5668\n",
            "Epoch 12/15\n",
            "\u001b[1m1340/1340\u001b[0m \u001b[32m━━━━━━━━━━━━━━━━━━━━\u001b[0m\u001b[37m\u001b[0m \u001b[1m5s\u001b[0m 4ms/step - accuracy: 0.7376 - loss: 0.4641 - val_accuracy: 0.7534 - val_loss: 0.5946\n",
            "Epoch 13/15\n",
            "\u001b[1m1340/1340\u001b[0m \u001b[32m━━━━━━━━━━━━━━━━━━━━\u001b[0m\u001b[37m\u001b[0m \u001b[1m5s\u001b[0m 4ms/step - accuracy: 0.7420 - loss: 0.4614 - val_accuracy: 0.8183 - val_loss: 0.5886\n",
            "Epoch 14/15\n",
            "\u001b[1m1340/1340\u001b[0m \u001b[32m━━━━━━━━━━━━━━━━━━━━\u001b[0m\u001b[37m\u001b[0m \u001b[1m4s\u001b[0m 3ms/step - accuracy: 0.7364 - loss: 0.4702 - val_accuracy: 0.8043 - val_loss: 0.5398\n",
            "Epoch 15/15\n",
            "\u001b[1m1340/1340\u001b[0m \u001b[32m━━━━━━━━━━━━━━━━━━━━\u001b[0m\u001b[37m\u001b[0m \u001b[1m6s\u001b[0m 4ms/step - accuracy: 0.7397 - loss: 0.4680 - val_accuracy: 0.8350 - val_loss: 0.5268\n",
            "\u001b[1m625/625\u001b[0m \u001b[32m━━━━━━━━━━━━━━━━━━━━\u001b[0m\u001b[37m\u001b[0m \u001b[1m1s\u001b[0m 1ms/step\n",
            "\n",
            "🎯 Final MLP with Dropout Results:\n",
            "              precision    recall  f1-score   support\n",
            "\n",
            "           0       0.87      0.68      0.76     13291\n",
            "           1       0.56      0.81      0.66      6685\n",
            "\n",
            "    accuracy                           0.72     19976\n",
            "   macro avg       0.71      0.74      0.71     19976\n",
            "weighted avg       0.77      0.72      0.73     19976\n",
            "\n"
          ]
        }
      ],
      "source": [
        "import tensorflow as tf\n",
        "from sklearn.metrics import classification_report\n",
        "\n",
        "model = tf.keras.Sequential([\n",
        "    tf.keras.layers.Dense(128, activation='relu', input_shape=(X_train_res.shape[1],)),\n",
        "    tf.keras.layers.Dropout(0.3),\n",
        "    tf.keras.layers.Dense(64, activation='relu'),\n",
        "    tf.keras.layers.Dropout(0.3),\n",
        "    tf.keras.layers.Dense(1, activation='sigmoid')\n",
        "])\n",
        "\n",
        "model.compile(optimizer='adam',\n",
        "              loss='binary_crossentropy',\n",
        "              metrics=['accuracy'])\n",
        "\n",
        "history = model.fit(X_train_res, y_train_res, epochs=15, batch_size=64, validation_split=0.2)\n",
        "\n",
        "# Evaluate\n",
        "y_pred_proba = model.predict(X_test)\n",
        "y_pred_final = (y_pred_proba > 0.5).astype(int)\n",
        "print(\"\\n🎯 Final MLP with Dropout Results:\")\n",
        "print(classification_report(y_test, y_pred_final))\n"
      ]
    },
    {
      "cell_type": "code",
      "execution_count": null,
      "metadata": {
        "colab": {
          "base_uri": "https://localhost:8080/",
          "height": 509
        },
        "id": "23dDAYYui9xF",
        "outputId": "f7ba020d-ca77-43f0-c821-ed578483c947"
      },
      "outputs": [
        {
          "data": {
            "image/png": "[encoded data removed]",
            "text/plain": [
              "<Figure size 640x480 with 2 Axes>"
            ]
          },
          "metadata": {},
          "output_type": "display_data"
        },
        {
          "name": "stderr",
          "output_type": "stream",
          "text": [
            "WARNING:absl:You are saving your model as an HDF5 file via `model.save()` or `keras.saving.save_model(model)`. This file format is considered legacy. We recommend using instead the native Keras format, e.g. `model.save('my_model.keras')` or `keras.saving.save_model(model, 'my_model.keras')`. \n"
          ]
        }
      ],
      "source": [
        "from sklearn.metrics import confusion_matrix\n",
        "import seaborn as sns\n",
        "import matplotlib.pyplot as plt\n",
        "\n",
        "cm = confusion_matrix(y_test, y_pred_final)\n",
        "sns.heatmap(cm, annot=True, fmt='d', cmap='Blues')\n",
        "plt.title(\"MLP Confusion Matrix\")\n",
        "plt.xlabel(\"Predicted\")\n",
        "plt.ylabel(\"Actual\")\n",
        "plt.show()\n",
        "\n",
        "model.save(\"final_attendance_mlp_model.h5\")\n"
      ]
    },
    {
      "cell_type": "code",
      "execution_count": null,
      "metadata": {
        "id": "4SKS_AA-i-vG"
      },
      "outputs": [],
      "source": [
        "df = pd.read_csv(\"attendance_dataset_augmented_full.csv\")\n"
      ]
    },
    {
      "cell_type": "code",
      "execution_count": null,
      "metadata": {
        "id": "Gmo4V_lym28Z"
      },
      "outputs": [],
      "source": [
        "import pandas as pd\n",
        "import numpy as np\n",
        "from sklearn.model_selection import train_test_split\n",
        "from sklearn.preprocessing import LabelEncoder, StandardScaler\n",
        "from sklearn.metrics import classification_report, confusion_matrix\n",
        "from imblearn.over_sampling import SMOTE\n",
        "import matplotlib.pyplot as plt\n",
        "import seaborn as sns\n",
        "import tensorflow as tf\n"
      ]
    },
    {
      "cell_type": "code",
      "execution_count": null,
      "metadata": {
        "id": "zqfSsmdQnqKF"
      },
      "outputs": [],
      "source": [
        "# Upload CSV first in Colab sidebar (files) or mount Google Drive\n",
        "df = pd.read_csv(\"attendance_dataset_augmented_full.csv\")\n",
        "\n",
        "# Clean lecture duration and time\n",
        "df['Lecture Duration'] = pd.to_numeric(df['Lecture Duration'], errors='coerce')\n",
        "df = df.dropna(subset=['Status', 'Lecture Duration', 'Day', 'CourseCode', 'Time Lecture Started'])\n",
        "df = df[(df['Lecture Duration'] > 0) & (df['Lecture Duration'] <= 180)]\n",
        "df['Lecture Start Hour'] = df['Time Lecture Started'].astype(str).apply(lambda x: int(x.split(':')[0]) if ':' in x else 0)\n",
        "\n",
        "# Convert status to label\n",
        "df['Status'] = df['Status'].str.lower()\n",
        "df['label'] = df['Status'].apply(lambda x: 1 if x == 'present' else 0)\n"
      ]
    },
    {
      "cell_type": "code",
      "execution_count": null,
      "metadata": {
        "id": "4j8-tsbxntsf"
      },
      "outputs": [],
      "source": [
        "# Fill missing or simulate context-based features\n",
        "df['AvgAttendanceRate'] = pd.to_numeric(df['AvgAttendanceRate'], errors='coerce').fillna(50)\n",
        "df['GPA'] = pd.to_numeric(df['GPA'], errors='coerce').fillna(2.5)\n",
        "df['DaysAbsentLastWeek'] = df['DaysAbsentLastWeek'].fillna(0)\n",
        "df['LectureImportance'] = pd.to_numeric(df['LectureImportance'], errors='coerce').fillna(5)\n",
        "df['HadExamToday'] = df['HadExamToday'].fillna(0)\n",
        "df['YearOfStudy'] = df['YearOfStudy'].fillna(1)\n",
        "df['IsFirstLecture'] = df['IsFirstLecture'].fillna(0)\n",
        "\n",
        "# Encode categorical columns\n",
        "label_cols = ['Day', 'CourseCode', 'Faculty', 'LectureDifficulty', 'StudentType', 'WeatherCondition', 'DeviceUsed']\n",
        "for col in label_cols:\n",
        "    df[col + '_enc'] = LabelEncoder().fit_transform(df[col].astype(str))\n"
      ]
    },
    {
      "cell_type": "code",
      "execution_count": null,
      "metadata": {
        "id": "BJn21tr4nyBN"
      },
      "outputs": [],
      "source": [
        "df = df.sort_values(by=[\"Student ID\", \"Date\"])\n",
        "\n",
        "# Was present last time\n",
        "df['was_present_last_time'] = df.groupby('Student ID')['label'].shift(1).fillna(0)\n",
        "\n",
        "# Rolling absence in last 7 lectures\n",
        "df['rolling_absences'] = df.groupby('Student ID')['label'].transform(\n",
        "    lambda x: x.rolling(7, min_periods=1).apply(lambda y: 7 - sum(y))\n",
        ").fillna(0)\n",
        "\n",
        "# Average attendance in last 3\n",
        "df['last3_avg'] = df.groupby('Student ID')['label'].transform(\n",
        "    lambda x: x.shift(1).rolling(3, min_periods=1).mean()\n",
        ").fillna(0)\n"
      ]
    },
    {
      "cell_type": "code",
      "execution_count": null,
      "metadata": {
        "id": "iEg4hxE_n0Kz"
      },
      "outputs": [],
      "source": [
        "features = [\n",
        "    'Lecture Duration', 'Lecture Start Hour', 'was_present_last_time', 'rolling_absences', 'last3_avg',\n",
        "    'Day_enc', 'CourseCode_enc', 'Faculty_enc', 'LectureDifficulty_enc', 'StudentType_enc',\n",
        "    'WeatherCondition_enc', 'DeviceUsed_enc', 'GPA', 'YearOfStudy', 'AvgAttendanceRate',\n",
        "    'DaysAbsentLastWeek', 'IsFirstLecture', 'LectureImportance', 'HadExamToday'\n",
        "]\n",
        "\n",
        "X = df[features]\n",
        "y = df['label']\n",
        "\n",
        "# Split and balance\n",
        "X_train, X_test, y_train, y_test = train_test_split(X, y, test_size=0.2, random_state=42)\n",
        "sm = SMOTE(random_state=42)\n",
        "X_train_res, y_train_res = sm.fit_resample(X_train, y_train)\n"
      ]
    },
    {
      "cell_type": "code",
      "execution_count": null,
      "metadata": {
        "id": "e0g27Qy9n2Ar"
      },
      "outputs": [],
      "source": [
        "scaler = StandardScaler()\n",
        "X_train_res_scaled = scaler.fit_transform(X_train_res)\n",
        "X_test_scaled = scaler.transform(X_test)\n"
      ]
    },
    {
      "cell_type": "code",
      "execution_count": null,
      "metadata": {
        "colab": {
          "base_uri": "https://localhost:8080/"
        },
        "id": "UJI8yerun3bT",
        "outputId": "30b75e1a-397b-476c-cfdf-7a7d15b4d65e"
      },
      "outputs": [
        {
          "name": "stdout",
          "output_type": "stream",
          "text": [
            "Epoch 1/15\n",
            "\u001b[1m14004/14004\u001b[0m \u001b[32m━━━━━━━━━━━━━━━━━━━━\u001b[0m\u001b[37m\u001b[0m \u001b[1m48s\u001b[0m 3ms/step - accuracy: 0.7175 - loss: 0.5221 - val_accuracy: 0.6680 - val_loss: 0.6468\n",
            "Epoch 2/15\n",
            "\u001b[1m14004/14004\u001b[0m \u001b[32m━━━━━━━━━━━━━━━━━━━━\u001b[0m\u001b[37m\u001b[0m \u001b[1m86s\u001b[0m 4ms/step - accuracy: 0.7232 - loss: 0.5008 - val_accuracy: 0.6839 - val_loss: 0.5949\n",
            "Epoch 3/15\n",
            "\u001b[1m14004/14004\u001b[0m \u001b[32m━━━━━━━━━━━━━━━━━━━━\u001b[0m\u001b[37m\u001b[0m \u001b[1m82s\u001b[0m 4ms/step - accuracy: 0.7267 - loss: 0.4938 - val_accuracy: 0.7976 - val_loss: 0.4874\n",
            "Epoch 4/15\n",
            "\u001b[1m14004/14004\u001b[0m \u001b[32m━━━━━━━━━━━━━━━━━━━━\u001b[0m\u001b[37m\u001b[0m \u001b[1m79s\u001b[0m 3ms/step - accuracy: 0.7304 - loss: 0.4887 - val_accuracy: 0.8255 - val_loss: 0.4559\n",
            "Epoch 5/15\n",
            "\u001b[1m14004/14004\u001b[0m \u001b[32m━━━━━━━━━━━━━━━━━━━━\u001b[0m\u001b[37m\u001b[0m \u001b[1m87s\u001b[0m 4ms/step - accuracy: 0.7328 - loss: 0.4864 - val_accuracy: 0.8429 - val_loss: 0.4482\n",
            "Epoch 6/15\n",
            "\u001b[1m14004/14004\u001b[0m \u001b[32m━━━━━━━━━━━━━━━━━━━━\u001b[0m\u001b[37m\u001b[0m \u001b[1m47s\u001b[0m 3ms/step - accuracy: 0.7340 - loss: 0.4846 - val_accuracy: 0.8456 - val_loss: 0.4156\n",
            "Epoch 7/15\n",
            "\u001b[1m14004/14004\u001b[0m \u001b[32m━━━━━━━━━━━━━━━━━━━━\u001b[0m\u001b[37m\u001b[0m \u001b[1m88s\u001b[0m 4ms/step - accuracy: 0.7338 - loss: 0.4824 - val_accuracy: 0.8462 - val_loss: 0.3926\n",
            "Epoch 8/15\n",
            "\u001b[1m14004/14004\u001b[0m \u001b[32m━━━━━━━━━━━━━━━━━━━━\u001b[0m\u001b[37m\u001b[0m \u001b[1m82s\u001b[0m 4ms/step - accuracy: 0.7347 - loss: 0.4800 - val_accuracy: 0.8505 - val_loss: 0.3718\n",
            "Epoch 9/15\n",
            "\u001b[1m14004/14004\u001b[0m \u001b[32m━━━━━━━━━━━━━━━━━━━━\u001b[0m\u001b[37m\u001b[0m \u001b[1m45s\u001b[0m 3ms/step - accuracy: 0.7336 - loss: 0.4802 - val_accuracy: 0.8595 - val_loss: 0.3648\n",
            "Epoch 10/15\n",
            "\u001b[1m14004/14004\u001b[0m \u001b[32m━━━━━━━━━━━━━━━━━━━━\u001b[0m\u001b[37m\u001b[0m \u001b[1m47s\u001b[0m 3ms/step - accuracy: 0.7344 - loss: 0.4792 - val_accuracy: 0.8444 - val_loss: 0.3880\n",
            "Epoch 11/15\n",
            "\u001b[1m14004/14004\u001b[0m \u001b[32m━━━━━━━━━━━━━━━━━━━━\u001b[0m\u001b[37m\u001b[0m \u001b[1m81s\u001b[0m 3ms/step - accuracy: 0.7347 - loss: 0.4790 - val_accuracy: 0.8571 - val_loss: 0.3503\n",
            "Epoch 12/15\n",
            "\u001b[1m14004/14004\u001b[0m \u001b[32m━━━━━━━━━━━━━━━━━━━━\u001b[0m\u001b[37m\u001b[0m \u001b[1m51s\u001b[0m 4ms/step - accuracy: 0.7355 - loss: 0.4783 - val_accuracy: 0.8472 - val_loss: 0.3665\n",
            "Epoch 13/15\n",
            "\u001b[1m14004/14004\u001b[0m \u001b[32m━━━━━━━━━━━━━━━━━━━━\u001b[0m\u001b[37m\u001b[0m \u001b[1m50s\u001b[0m 4ms/step - accuracy: 0.7352 - loss: 0.4789 - val_accuracy: 0.8594 - val_loss: 0.3583\n",
            "Epoch 14/15\n",
            "\u001b[1m14004/14004\u001b[0m \u001b[32m━━━━━━━━━━━━━━━━━━━━\u001b[0m\u001b[37m\u001b[0m \u001b[1m51s\u001b[0m 4ms/step - accuracy: 0.7345 - loss: 0.4790 - val_accuracy: 0.8375 - val_loss: 0.3880\n",
            "Epoch 15/15\n",
            "\u001b[1m14004/14004\u001b[0m \u001b[32m━━━━━━━━━━━━━━━━━━━━\u001b[0m\u001b[37m\u001b[0m \u001b[1m47s\u001b[0m 3ms/step - accuracy: 0.7335 - loss: 0.4787 - val_accuracy: 0.8452 - val_loss: 0.3527\n"
          ]
        },
        {
          "data": {
            "text/plain": [
              "<keras.src.callbacks.history.History at 0x7f855b207c10>"
            ]
          },
          "execution_count": 41,
          "metadata": {},
          "output_type": "execute_result"
        }
      ],
      "source": [
        "model = tf.keras.Sequential([\n",
        "    tf.keras.layers.Dense(128, activation='relu', input_shape=(X_train_res_scaled.shape[1],)),\n",
        "    tf.keras.layers.Dropout(0.3),\n",
        "    tf.keras.layers.Dense(64, activation='relu'),\n",
        "    tf.keras.layers.Dropout(0.3),\n",
        "    tf.keras.layers.Dense(1, activation='sigmoid')\n",
        "])\n",
        "\n",
        "model.compile(optimizer='adam', loss='binary_crossentropy', metrics=['accuracy'])\n",
        "model.fit(X_train_res_scaled, y_train_res, epochs=15, batch_size=64, validation_split=0.2, verbose=1)\n"
      ]
    },
    {
      "cell_type": "code",
      "execution_count": null,
      "metadata": {
        "colab": {
          "base_uri": "https://localhost:8080/",
          "height": 663
        },
        "id": "EjfNWvE4n4gD",
        "outputId": "37677dce-cb61-445b-df96-d5beb42367b8"
      },
      "outputs": [
        {
          "name": "stdout",
          "output_type": "stream",
          "text": [
            "\u001b[1m6561/6561\u001b[0m \u001b[32m━━━━━━━━━━━━━━━━━━━━\u001b[0m\u001b[37m\u001b[0m \u001b[1m8s\u001b[0m 1ms/step\n",
            "✅ Final MLP Evaluation:\n",
            "              precision    recall  f1-score   support\n",
            "\n",
            "           0       0.79      0.81      0.80    140138\n",
            "           1       0.60      0.57      0.58     69804\n",
            "\n",
            "    accuracy                           0.73    209942\n",
            "   macro avg       0.69      0.69      0.69    209942\n",
            "weighted avg       0.73      0.73      0.73    209942\n",
            "\n"
          ]
        },
        {
          "data": {
            "image/png": "[encoded data removed]",
            "text/plain": [
              "<Figure size 640x480 with 2 Axes>"
            ]
          },
          "metadata": {},
          "output_type": "display_data"
        }
      ],
      "source": [
        "from sklearn.metrics import classification_report, confusion_matrix\n",
        "\n",
        "y_pred_proba = model.predict(X_test_scaled)\n",
        "y_pred_final = (y_pred_proba > 0.5).astype(int)\n",
        "\n",
        "print(\"✅ Final MLP Evaluation:\")\n",
        "print(classification_report(y_test, y_pred_final))\n",
        "\n",
        "cm = confusion_matrix(y_test, y_pred_final)\n",
        "sns.heatmap(cm, annot=True, fmt='d', cmap='Blues')\n",
        "plt.title(\"Confusion Matrix - MLP Final Model\")\n",
        "plt.xlabel(\"Predicted\")\n",
        "plt.ylabel(\"Actual\")\n",
        "plt.show()\n"
      ]
    },
    {
      "cell_type": "code",
      "execution_count": null,
      "metadata": {
        "id": "C6ghh7VU0OIn"
      },
      "outputs": [],
      "source": [
        "import pandas as pd\n",
        "import numpy as np\n",
        "\n",
        "# Load your full dataset\n",
        "df = pd.read_csv(\"attendance_dataset_augmented_full.csv\")# Clean the Status column to only 'present' or 'absent'\n",
        "df['Status'] = df['Status'].str.lower().replace(['late', 'excused', 'unknown'], 'absent')\n"
      ]
    },
    {
      "cell_type": "code",
      "execution_count": null,
      "metadata": {
        "id": "tqoMan2sz_12"
      },
      "outputs": [],
      "source": [
        "\n",
        "\n",
        "# Simulate behavioral predictors\n",
        "np.random.seed(42)\n",
        "df['CumulativeAbsenceCount'] = df.groupby('Student ID')['Status'].transform(lambda x: (x.str.lower() != 'present').cumsum())\n",
        "df['ConsecutiveAbsences'] = df.groupby('Student ID')['Status'].transform(\n",
        "    lambda x: x.str.lower().replace('present', 0).replace('absent', 1).astype(int).rolling(3, min_periods=1).sum()\n",
        ")\n",
        "df['LectureGroupSize'] = np.random.randint(20, 60, size=len(df))\n",
        "df['HasAssignmentDue'] = np.random.choice([0, 1], size=len(df), p=[0.85, 0.15])\n",
        "df['IsQuizDay'] = np.random.choice([0, 1], size=len(df), p=[0.90, 0.10])\n",
        "df['PreviousDayAttendance'] = df.groupby('Student ID')['Status'].shift(1).fillna('absent')\n",
        "df['PreviousDayAttendance'] = (df['PreviousDayAttendance'].str.lower() == 'present').astype(int)\n"
      ]
    },
    {
      "cell_type": "code",
      "execution_count": null,
      "metadata": {
        "id": "SgX6d5UX0A2A"
      },
      "outputs": [],
      "source": [
        "from sklearn.preprocessing import LabelEncoder\n",
        "\n",
        "# Clean durations\n",
        "df['Lecture Duration'] = pd.to_numeric(df['Lecture Duration'], errors='coerce')\n",
        "df = df.dropna(subset=['Status', 'Lecture Duration', 'Day', 'CourseCode', 'Time Lecture Started'])\n",
        "df = df[(df['Lecture Duration'] > 0) & (df['Lecture Duration'] <= 180)]\n",
        "df['Lecture Start Hour'] = df['Time Lecture Started'].astype(str).apply(lambda x: int(x.split(':')[0]) if ':' in x else 0)\n",
        "\n",
        "# Label target\n",
        "df['Status'] = df['Status'].str.lower()\n",
        "df['label'] = df['Status'].apply(lambda x: 1 if x == 'present' else 0)\n",
        "\n",
        "# Numeric fills\n",
        "df['AvgAttendanceRate'] = pd.to_numeric(df['AvgAttendanceRate'], errors='coerce').fillna(50)\n",
        "df['GPA'] = pd.to_numeric(df['GPA'], errors='coerce').fillna(2.5)\n",
        "df['DaysAbsentLastWeek'] = df['DaysAbsentLastWeek'].fillna(0)\n",
        "df['LectureImportance'] = pd.to_numeric(df['LectureImportance'], errors='coerce').fillna(5)\n",
        "df['HadExamToday'] = df['HadExamToday'].fillna(0)\n",
        "df['YearOfStudy'] = df['YearOfStudy'].fillna(1)\n",
        "df['IsFirstLecture'] = df['IsFirstLecture'].fillna(0)\n",
        "\n",
        "# Encode categoricals\n",
        "cat_cols = ['Day', 'CourseCode', 'Faculty', 'LectureDifficulty', 'StudentType', 'WeatherCondition', 'DeviceUsed']\n",
        "for col in cat_cols:\n",
        "    df[col + '_enc'] = LabelEncoder().fit_transform(df[col].astype(str))\n"
      ]
    },
    {
      "cell_type": "code",
      "execution_count": null,
      "metadata": {
        "id": "2iMqaSG00f9u"
      },
      "outputs": [],
      "source": [
        "df = df.sort_values(by=[\"Student ID\", \"Date\"])\n",
        "df['was_present_last_time'] = df.groupby('Student ID')['label'].shift(1).fillna(0)\n",
        "df['rolling_absences'] = df.groupby('Student ID')['label'].transform(\n",
        "    lambda x: x.rolling(7, min_periods=1).apply(lambda y: 7 - sum(y))).fillna(0)\n",
        "df['last3_avg'] = df.groupby('Student ID')['label'].transform(\n",
        "    lambda x: x.shift(1).rolling(3, min_periods=1).mean()).fillna(0)\n"
      ]
    },
    {
      "cell_type": "code",
      "execution_count": null,
      "metadata": {
        "id": "RUmQ8bCW0h-S"
      },
      "outputs": [],
      "source": [
        "from sklearn.model_selection import train_test_split\n",
        "from imblearn.over_sampling import SMOTE\n",
        "\n",
        "# Feature list\n",
        "features = [\n",
        "    'Lecture Duration', 'Lecture Start Hour', 'was_present_last_time', 'rolling_absences', 'last3_avg',\n",
        "    'Day_enc', 'CourseCode_enc', 'Faculty_enc', 'LectureDifficulty_enc', 'StudentType_enc',\n",
        "    'WeatherCondition_enc', 'DeviceUsed_enc', 'GPA', 'YearOfStudy', 'AvgAttendanceRate',\n",
        "    'DaysAbsentLastWeek', 'IsFirstLecture', 'LectureImportance', 'HadExamToday',\n",
        "    'CumulativeAbsenceCount', 'ConsecutiveAbsences', 'LectureGroupSize', 'HasAssignmentDue',\n",
        "    'IsQuizDay', 'PreviousDayAttendance'\n",
        "]\n",
        "\n",
        "X = df[features]\n",
        "y = df['label']\n",
        "\n",
        "# Split\n",
        "X_train, X_test, y_train, y_test = train_test_split(X, y, test_size=0.2, random_state=42)\n",
        "X_train, y_train = SMOTE(random_state=42).fit_resample(X_train, y_train)\n"
      ]
    },
    {
      "cell_type": "code",
      "execution_count": null,
      "metadata": {
        "id": "SjT5W0Og0kNl"
      },
      "outputs": [],
      "source": [
        "from sklearn.preprocessing import StandardScaler\n",
        "from sklearn.metrics import precision_recall_curve\n",
        "\n",
        "scaler = StandardScaler()\n",
        "X_train_scaled = scaler.fit_transform(X_train)\n",
        "X_test_scaled = scaler.transform(X_test)\n"
      ]
    },
    {
      "cell_type": "code",
      "execution_count": null,
      "metadata": {
        "colab": {
          "base_uri": "https://localhost:8080/"
        },
        "id": "0JWf3iXc0loL",
        "outputId": "58133752-b7d2-4e6d-e1c6-d510bbbf05bb"
      },
      "outputs": [
        {
          "name": "stdout",
          "output_type": "stream",
          "text": [
            "Epoch 1/20\n",
            "\u001b[1m14004/14004\u001b[0m \u001b[32m━━━━━━━━━━━━━━━━━━━━\u001b[0m\u001b[37m\u001b[0m \u001b[1m82s\u001b[0m 6ms/step - accuracy: 0.8525 - loss: 0.3624 - val_accuracy: 0.9564 - val_loss: 0.2310\n",
            "Epoch 2/20\n",
            "\u001b[1m14004/14004\u001b[0m \u001b[32m━━━━━━━━━━━━━━━━━━━━\u001b[0m\u001b[37m\u001b[0m \u001b[1m80s\u001b[0m 6ms/step - accuracy: 0.8635 - loss: 0.2730 - val_accuracy: 0.9488 - val_loss: 0.1916\n",
            "Epoch 3/20\n",
            "\u001b[1m14004/14004\u001b[0m \u001b[32m━━━━━━━━━━━━━━━━━━━━\u001b[0m\u001b[37m\u001b[0m \u001b[1m79s\u001b[0m 5ms/step - accuracy: 0.8638 - loss: 0.2677 - val_accuracy: 0.9663 - val_loss: 0.2118\n",
            "Epoch 4/20\n",
            "\u001b[1m14004/14004\u001b[0m \u001b[32m━━━━━━━━━━━━━━━━━━━━\u001b[0m\u001b[37m\u001b[0m \u001b[1m77s\u001b[0m 5ms/step - accuracy: 0.8637 - loss: 0.2650 - val_accuracy: 0.9584 - val_loss: 0.1972\n",
            "Epoch 5/20\n",
            "\u001b[1m14004/14004\u001b[0m \u001b[32m━━━━━━━━━━━━━━━━━━━━\u001b[0m\u001b[37m\u001b[0m \u001b[1m82s\u001b[0m 5ms/step - accuracy: 0.8638 - loss: 0.2632 - val_accuracy: 0.9626 - val_loss: 0.1923\n",
            "Epoch 6/20\n",
            "\u001b[1m14004/14004\u001b[0m \u001b[32m━━━━━━━━━━━━━━━━━━━━\u001b[0m\u001b[37m\u001b[0m \u001b[1m78s\u001b[0m 6ms/step - accuracy: 0.8636 - loss: 0.2626 - val_accuracy: 0.9531 - val_loss: 0.1953\n",
            "Epoch 7/20\n",
            "\u001b[1m14004/14004\u001b[0m \u001b[32m━━━━━━━━━━━━━━━━━━━━\u001b[0m\u001b[37m\u001b[0m \u001b[1m78s\u001b[0m 6ms/step - accuracy: 0.8645 - loss: 0.2629 - val_accuracy: 0.9632 - val_loss: 0.1936\n",
            "Epoch 8/20\n",
            "\u001b[1m14004/14004\u001b[0m \u001b[32m━━━━━━━━━━━━━━━━━━━━\u001b[0m\u001b[37m\u001b[0m \u001b[1m77s\u001b[0m 6ms/step - accuracy: 0.8637 - loss: 0.2631 - val_accuracy: 0.9495 - val_loss: 0.2006\n",
            "Epoch 9/20\n",
            "\u001b[1m14004/14004\u001b[0m \u001b[32m━━━━━━━━━━━━━━━━━━━━\u001b[0m\u001b[37m\u001b[0m \u001b[1m79s\u001b[0m 5ms/step - accuracy: 0.8634 - loss: 0.2633 - val_accuracy: 0.9380 - val_loss: 0.2127\n",
            "Epoch 10/20\n",
            "\u001b[1m14004/14004\u001b[0m \u001b[32m━━━━━━━━━━━━━━━━━━━━\u001b[0m\u001b[37m\u001b[0m \u001b[1m85s\u001b[0m 6ms/step - accuracy: 0.8636 - loss: 0.2631 - val_accuracy: 0.9675 - val_loss: 0.2156\n",
            "Epoch 11/20\n",
            "\u001b[1m14004/14004\u001b[0m \u001b[32m━━━━━━━━━━━━━━━━━━━━\u001b[0m\u001b[37m\u001b[0m \u001b[1m81s\u001b[0m 5ms/step - accuracy: 0.8634 - loss: 0.2626 - val_accuracy: 0.9391 - val_loss: 0.2076\n",
            "Epoch 12/20\n",
            "\u001b[1m14004/14004\u001b[0m \u001b[32m━━━━━━━━━━━━━━━━━━━━\u001b[0m\u001b[37m\u001b[0m \u001b[1m81s\u001b[0m 5ms/step - accuracy: 0.8642 - loss: 0.2624 - val_accuracy: 0.9518 - val_loss: 0.2039\n",
            "Epoch 13/20\n",
            "\u001b[1m14004/14004\u001b[0m \u001b[32m━━━━━━━━━━━━━━━━━━━━\u001b[0m\u001b[37m\u001b[0m \u001b[1m75s\u001b[0m 5ms/step - accuracy: 0.8635 - loss: 0.2631 - val_accuracy: 0.9581 - val_loss: 0.1957\n",
            "Epoch 14/20\n",
            "\u001b[1m14004/14004\u001b[0m \u001b[32m━━━━━━━━━━━━━━━━━━━━\u001b[0m\u001b[37m\u001b[0m \u001b[1m75s\u001b[0m 5ms/step - accuracy: 0.8632 - loss: 0.2623 - val_accuracy: 0.9292 - val_loss: 0.2105\n",
            "Epoch 15/20\n",
            "\u001b[1m14004/14004\u001b[0m \u001b[32m━━━━━━━━━━━━━━━━━━━━\u001b[0m\u001b[37m\u001b[0m \u001b[1m82s\u001b[0m 5ms/step - accuracy: 0.8642 - loss: 0.2615 - val_accuracy: 0.9694 - val_loss: 0.1930\n",
            "Epoch 16/20\n",
            "\u001b[1m14004/14004\u001b[0m \u001b[32m━━━━━━━━━━━━━━━━━━━━\u001b[0m\u001b[37m\u001b[0m \u001b[1m71s\u001b[0m 5ms/step - accuracy: 0.8643 - loss: 0.2619 - val_accuracy: 0.9579 - val_loss: 0.1834\n",
            "Epoch 17/20\n",
            "\u001b[1m14004/14004\u001b[0m \u001b[32m━━━━━━━━━━━━━━━━━━━━\u001b[0m\u001b[37m\u001b[0m \u001b[1m86s\u001b[0m 5ms/step - accuracy: 0.8645 - loss: 0.2616 - val_accuracy: 0.9426 - val_loss: 0.1969\n",
            "Epoch 18/20\n",
            "\u001b[1m14004/14004\u001b[0m \u001b[32m━━━━━━━━━━━━━━━━━━━━\u001b[0m\u001b[37m\u001b[0m \u001b[1m75s\u001b[0m 5ms/step - accuracy: 0.8628 - loss: 0.2626 - val_accuracy: 0.9606 - val_loss: 0.1928\n",
            "Epoch 19/20\n",
            "\u001b[1m14004/14004\u001b[0m \u001b[32m━━━━━━━━━━━━━━━━━━━━\u001b[0m\u001b[37m\u001b[0m \u001b[1m82s\u001b[0m 5ms/step - accuracy: 0.8634 - loss: 0.2623 - val_accuracy: 0.9495 - val_loss: 0.1953\n",
            "Epoch 20/20\n",
            "\u001b[1m14004/14004\u001b[0m \u001b[32m━━━━━━━━━━━━━━━━━━━━\u001b[0m\u001b[37m\u001b[0m \u001b[1m80s\u001b[0m 5ms/step - accuracy: 0.8636 - loss: 0.2616 - val_accuracy: 0.9633 - val_loss: 0.1868\n"
          ]
        },
        {
          "data": {
            "text/plain": [
              "<keras.src.callbacks.history.History at 0x7f8539a0edd0>"
            ]
          },
          "execution_count": 49,
          "metadata": {},
          "output_type": "execute_result"
        }
      ],
      "source": [
        "import tensorflow as tf\n",
        "from tensorflow.keras import regularizers\n",
        "\n",
        "model = tf.keras.Sequential([\n",
        "    tf.keras.layers.Dense(256, activation='relu', kernel_regularizer=regularizers.l2(0.001), input_shape=(X_train_scaled.shape[1],)),\n",
        "    tf.keras.layers.BatchNormalization(),\n",
        "    tf.keras.layers.Dropout(0.4),\n",
        "    tf.keras.layers.Dense(128, activation='relu', kernel_regularizer=regularizers.l2(0.001)),\n",
        "    tf.keras.layers.BatchNormalization(),\n",
        "    tf.keras.layers.Dropout(0.4),\n",
        "    tf.keras.layers.Dense(1, activation='sigmoid')\n",
        "])\n",
        "\n",
        "model.compile(optimizer='adam', loss='binary_crossentropy', metrics=['accuracy'])\n",
        "model.fit(X_train_scaled, y_train, epochs=20, batch_size=64, validation_split=0.2, verbose=1)\n"
      ]
    },
    {
      "cell_type": "code",
      "execution_count": null,
      "metadata": {
        "colab": {
          "base_uri": "https://localhost:8080/",
          "height": 663
        },
        "id": "pRphyBs30nMt",
        "outputId": "95f52178-9f9a-4eed-eb16-04702849e529"
      },
      "outputs": [
        {
          "name": "stdout",
          "output_type": "stream",
          "text": [
            "\u001b[1m6561/6561\u001b[0m \u001b[32m━━━━━━━━━━━━━━━━━━━━\u001b[0m\u001b[37m\u001b[0m \u001b[1m9s\u001b[0m 1ms/step\n",
            "🎯 Best threshold: 0.43\n",
            "              precision    recall  f1-score   support\n",
            "\n",
            "           0       0.98      0.79      0.87    140138\n",
            "           1       0.69      0.97      0.81     69804\n",
            "\n",
            "    accuracy                           0.85    209942\n",
            "   macro avg       0.84      0.88      0.84    209942\n",
            "weighted avg       0.89      0.85      0.85    209942\n",
            "\n"
          ]
        },
        {
          "data": {
            "image/png": "[encoded data removed]",
            "text/plain": [
              "<Figure size 640x480 with 2 Axes>"
            ]
          },
          "metadata": {},
          "output_type": "display_data"
        }
      ],
      "source": [
        "from sklearn.metrics import classification_report, confusion_matrix\n",
        "import seaborn as sns\n",
        "import matplotlib.pyplot as plt\n",
        "\n",
        "# Predict probabilities\n",
        "y_probs = model.predict(X_test_scaled)\n",
        "prec, rec, thresholds = precision_recall_curve(y_test, y_probs)\n",
        "f1_scores = 2 * (prec * rec) / (prec + rec + 1e-8)\n",
        "best_thresh = thresholds[np.argmax(f1_scores)]\n",
        "\n",
        "# Apply best threshold\n",
        "y_pred_final = (y_probs > best_thresh).astype(int)\n",
        "\n",
        "# Report\n",
        "print(f\"🎯 Best threshold: {best_thresh:.2f}\")\n",
        "print(classification_report(y_test, y_pred_final))\n",
        "\n",
        "# Confusion matrix\n",
        "cm = confusion_matrix(y_test, y_pred_final)\n",
        "sns.heatmap(cm, annot=True, fmt='d', cmap='coolwarm')\n",
        "plt.title(\"Confusion Matrix - Optimized Threshold\")\n",
        "plt.xlabel(\"Predicted\")\n",
        "plt.ylabel(\"Actual\")\n",
        "plt.show()\n"
      ]
    },
    {
      "cell_type": "code",
      "execution_count": null,
      "metadata": {
        "id": "8Ny2xFOWAvr8"
      },
      "outputs": [],
      "source": [
        "import pandas as pd\n",
        "import numpy as np\n",
        "\n",
        "df = pd.read_csv(\"attendance_dataset_augmented_full.csv\")\n",
        "\n",
        "# Step 1: Clean unusual values in 'Status'\n",
        "df['Status'] = df['Status'].str.lower().replace(['late', 'excused', 'unknown'], 'absent')\n",
        "\n",
        "# Step 2: Drop students with less than 5 records (noise filtering)\n",
        "valid_students = df['Student ID'].value_counts()[lambda x: x >= 5].index\n",
        "df = df[df['Student ID'].isin(valid_students)]\n",
        "\n",
        "# Step 3: Simulate powerful features\n",
        "np.random.seed(42)\n",
        "df['CumulativeAbsenceCount'] = df.groupby('Student ID')['Status'].transform(lambda x: (x != 'present').cumsum())\n",
        "df['ConsecutiveAbsences'] = df.groupby('Student ID')['Status'].transform(\n",
        "    lambda x: x.replace('present', 0).replace('absent', 1).astype(int).rolling(3, min_periods=1).sum()\n",
        ")\n",
        "df['LectureGroupSize'] = np.random.randint(20, 60, size=len(df))\n",
        "df['HasAssignmentDue'] = np.random.choice([0, 1], size=len(df), p=[0.85, 0.15])\n",
        "df['IsQuizDay'] = np.random.choice([0, 1], size=len(df), p=[0.90, 0.10])\n",
        "df['PreviousDayAttendance'] = df.groupby('Student ID')['Status'].shift(1).fillna('absent')\n",
        "df['PreviousDayAttendance'] = (df['PreviousDayAttendance'] == 'present').astype(int)\n"
      ]
    },
    {
      "cell_type": "code",
      "execution_count": null,
      "metadata": {
        "id": "emXW9bCgA722"
      },
      "outputs": [],
      "source": [
        "import tensorflow as tf\n",
        "from tensorflow.keras import backend as K\n",
        "\n",
        "def focal_loss(gamma=2., alpha=0.25):\n",
        "    def focal_loss_fixed(y_true, y_pred):\n",
        "        epsilon = K.epsilon()\n",
        "        y_pred = K.clip(y_pred, epsilon, 1. - epsilon)\n",
        "        cross_entropy = -y_true * K.log(y_pred) - (1 - y_true) * K.log(1 - y_pred)\n",
        "        weight = alpha * y_true * K.pow(1 - y_pred, gamma) + (1 - alpha) * (1 - y_true) * K.pow(y_pred, gamma)\n",
        "        loss = weight * cross_entropy\n",
        "        return K.mean(loss)\n",
        "    return focal_loss_fixed\n"
      ]
    },
    {
      "cell_type": "code",
      "execution_count": null,
      "metadata": {
        "id": "q4AmC4e7A88I"
      },
      "outputs": [],
      "source": [
        "from tensorflow.keras import layers, models, regularizers\n",
        "\n",
        "def build_deep_model(input_shape):\n",
        "    model = models.Sequential()\n",
        "    model.add(layers.Dense(512, activation='relu', input_shape=(input_shape,), kernel_regularizer=regularizers.l2(0.001)))\n",
        "    model.add(layers.BatchNormalization())\n",
        "    model.add(layers.Dropout(0.5))\n",
        "\n",
        "    model.add(layers.Dense(256, activation='relu', kernel_regularizer=regularizers.l2(0.001)))\n",
        "    model.add(layers.BatchNormalization())\n",
        "    model.add(layers.Dropout(0.4))\n",
        "\n",
        "    model.add(layers.Dense(128, activation='relu', kernel_regularizer=regularizers.l2(0.001)))\n",
        "    model.add(layers.BatchNormalization())\n",
        "    model.add(layers.Dropout(0.3))\n",
        "\n",
        "    model.add(layers.Dense(64, activation='relu', kernel_regularizer=regularizers.l2(0.001)))\n",
        "    model.add(layers.BatchNormalization())\n",
        "    model.add(layers.Dropout(0.2))\n",
        "\n",
        "    model.add(layers.Dense(1, activation='sigmoid'))\n",
        "    return model\n"
      ]
    },
    {
      "cell_type": "code",
      "execution_count": null,
      "metadata": {
        "id": "TL_ovCkjBf0j"
      },
      "outputs": [],
      "source": [
        "# Replace 'features' with your full list\n",
        "features = [\n",
        "    'Lecture Duration', 'Lecture Start Hour', 'was_present_last_time', 'rolling_absences', 'last3_avg',\n",
        "    'Day_enc', 'CourseCode_enc', 'Faculty_enc', 'LectureDifficulty_enc', 'StudentType_enc',\n",
        "    'WeatherCondition_enc', 'DeviceUsed_enc', 'GPA', 'YearOfStudy', 'AvgAttendanceRate',\n",
        "    'DaysAbsentLastWeek', 'IsFirstLecture', 'LectureImportance', 'HadExamToday',\n",
        "    'CumulativeAbsenceCount', 'ConsecutiveAbsences', 'LectureGroupSize', 'HasAssignmentDue',\n",
        "    'IsQuizDay', 'PreviousDayAttendance'\n",
        "]"
      ]
    },
    {
      "cell_type": "code",
      "execution_count": null,
      "metadata": {
        "colab": {
          "base_uri": "https://localhost:8080/"
        },
        "id": "eV_dkpwWBuRi",
        "outputId": "3a429203-e48e-473e-838b-8a6335b964cd"
      },
      "outputs": [
        {
          "name": "stdout",
          "output_type": "stream",
          "text": [
            "Requirement already satisfied: imbalanced-learn in /usr/local/lib/python3.11/dist-packages (0.13.0)\n",
            "Requirement already satisfied: numpy<3,>=1.24.3 in /usr/local/lib/python3.11/dist-packages (from imbalanced-learn) (2.0.2)\n",
            "Requirement already satisfied: scipy<2,>=1.10.1 in /usr/local/lib/python3.11/dist-packages (from imbalanced-learn) (1.15.2)\n",
            "Requirement already satisfied: scikit-learn<2,>=1.3.2 in /usr/local/lib/python3.11/dist-packages (from imbalanced-learn) (1.6.1)\n",
            "Requirement already satisfied: sklearn-compat<1,>=0.1 in /usr/local/lib/python3.11/dist-packages (from imbalanced-learn) (0.1.3)\n",
            "Requirement already satisfied: joblib<2,>=1.1.1 in /usr/local/lib/python3.11/dist-packages (from imbalanced-learn) (1.4.2)\n",
            "Requirement already satisfied: threadpoolctl<4,>=2.0.0 in /usr/local/lib/python3.11/dist-packages (from imbalanced-learn) (3.6.0)\n"
          ]
        }
      ],
      "source": [
        "!pip install imbalanced-learn\n",
        "\n",
        "import pandas as pd\n",
        "import numpy as np\n",
        "from sklearn.model_selection import train_test_split\n",
        "from sklearn.preprocessing import LabelEncoder, StandardScaler\n",
        "from sklearn.metrics import precision_recall_curve, classification_report, confusion_matrix\n",
        "from imblearn.over_sampling import SMOTE\n",
        "import seaborn as sns\n",
        "import matplotlib.pyplot as plt\n",
        "import tensorflow as tf\n",
        "from tensorflow.keras import layers, models, regularizers, backend as K\n"
      ]
    },
    {
      "cell_type": "code",
      "execution_count": null,
      "metadata": {
        "id": "R_UIeHvYBH6v"
      },
      "outputs": [],
      "source": [
        "df = pd.read_csv(\"attendance_dataset_augmented_full.csv\")\n",
        "\n",
        "# Clean up 'Status' values\n",
        "df['Status'] = df['Status'].str.lower().replace(['late', 'excused', 'unknown'], 'absent')\n",
        "\n",
        "# Filter: only students with >= 5 records\n",
        "valid_students = df['Student ID'].value_counts()[lambda x: x >= 5].index\n",
        "df = df[df['Student ID'].isin(valid_students)]\n",
        "\n",
        "# Label target\n",
        "df['label'] = df['Status'].apply(lambda x: 1 if x == 'present' else 0)\n",
        "\n",
        "# Simulate smart behavioral features\n",
        "np.random.seed(42)\n",
        "df['CumulativeAbsenceCount'] = df.groupby('Student ID')['Status'].transform(lambda x: (x != 'present').cumsum())\n",
        "df['ConsecutiveAbsences'] = df.groupby('Student ID')['Status'].transform(\n",
        "    lambda x: x.replace('present', 0).replace('absent', 1).astype(int).rolling(3, min_periods=1).sum()\n",
        ")\n",
        "df['LectureGroupSize'] = np.random.randint(20, 60, size=len(df))\n",
        "df['HasAssignmentDue'] = np.random.choice([0, 1], size=len(df), p=[0.85, 0.15])\n",
        "df['IsQuizDay'] = np.random.choice([0, 1], size=len(df), p=[0.90, 0.10])\n",
        "df['PreviousDayAttendance'] = df.groupby('Student ID')['Status'].shift(1).fillna('absent')\n",
        "df['PreviousDayAttendance'] = (df['PreviousDayAttendance'] == 'present').astype(int)\n"
      ]
    },
    {
      "cell_type": "code",
      "execution_count": null,
      "metadata": {
        "id": "ROpJidKqBVey"
      },
      "outputs": [],
      "source": [
        "# Encode categoricals\n",
        "label_cols = ['Day', 'CourseCode', 'Faculty', 'LectureDifficulty', 'StudentType', 'WeatherCondition', 'DeviceUsed']\n",
        "for col in label_cols:\n",
        "    df[col + '_enc'] = LabelEncoder().fit_transform(df[col].astype(str))\n",
        "\n",
        "# Fix columns\n",
        "df['Lecture Duration'] = pd.to_numeric(df['Lecture Duration'], errors='coerce')\n",
        "df['LectureImportance'] = pd.to_numeric(df['LectureImportance'], errors='coerce').fillna(5)\n",
        "df['Lecture Start Hour'] = df['Time Lecture Started'].astype(str).apply(lambda x: int(x.split(':')[0]) if ':' in x else 0)\n",
        "df['AvgAttendanceRate'] = pd.to_numeric(df['AvgAttendanceRate'], errors='coerce').fillna(50)\n",
        "df['GPA'] = pd.to_numeric(df['GPA'], errors='coerce').fillna(2.5)\n",
        "df['YearOfStudy'] = df['YearOfStudy'].fillna(1)\n",
        "df['DaysAbsentLastWeek'] = df['DaysAbsentLastWeek'].fillna(0)\n",
        "df['IsFirstLecture'] = df['IsFirstLecture'].fillna(0)\n"
      ]
    },
    {
      "cell_type": "code",
      "execution_count": null,
      "metadata": {
        "id": "vCx4h9AKCE0Y"
      },
      "outputs": [],
      "source": [
        "df = df.sort_values(by=[\"Student ID\", \"Date\"])\n",
        "df['was_present_last_time'] = df.groupby('Student ID')['label'].shift(1).fillna(0)\n",
        "df['rolling_absences'] = df.groupby('Student ID')['label'].transform(lambda x: x.rolling(7, min_periods=1).apply(lambda y: 7 - sum(y))).fillna(0)\n",
        "df['last3_avg'] = df.groupby('Student ID')['label'].transform(lambda x: x.shift(1).rolling(3, min_periods=1).mean()).fillna(0)\n"
      ]
    },
    {
      "cell_type": "code",
      "execution_count": null,
      "metadata": {
        "id": "GjiVfdsSCHYs"
      },
      "outputs": [],
      "source": [
        "features = [\n",
        "    'Lecture Duration', 'Lecture Start Hour', 'was_present_last_time', 'rolling_absences', 'last3_avg',\n",
        "    'Day_enc', 'CourseCode_enc', 'Faculty_enc', 'LectureDifficulty_enc', 'StudentType_enc',\n",
        "    'WeatherCondition_enc', 'DeviceUsed_enc', 'GPA', 'YearOfStudy', 'AvgAttendanceRate',\n",
        "    'DaysAbsentLastWeek', 'IsFirstLecture', 'LectureImportance', 'HadExamToday',\n",
        "    'CumulativeAbsenceCount', 'ConsecutiveAbsences', 'LectureGroupSize', 'HasAssignmentDue',\n",
        "    'IsQuizDay', 'PreviousDayAttendance'\n",
        "]\n",
        "\n",
        "X = df[features]\n",
        "y = df['label']\n",
        "\n",
        "X_train, X_test, y_train, y_test = train_test_split(X, y, test_size=0.2, random_state=42)\n",
        "X_train, y_train = SMOTE().fit_resample(X_train, y_train)\n",
        "\n",
        "scaler = StandardScaler()\n",
        "X_train_scaled = scaler.fit_transform(X_train)\n",
        "X_test_scaled = scaler.transform(X_test)\n"
      ]
    },
    {
      "cell_type": "code",
      "execution_count": null,
      "metadata": {
        "id": "AKgMtYtJCLiB"
      },
      "outputs": [],
      "source": [
        "def focal_loss(gamma=2., alpha=0.25):\n",
        "    def loss_fn(y_true, y_pred):\n",
        "        y_pred = K.clip(y_pred, K.epsilon(), 1. - K.epsilon())\n",
        "        cross_entropy = -y_true * K.log(y_pred) - (1 - y_true) * K.log(1 - y_pred)\n",
        "        weight = alpha * y_true * K.pow(1 - y_pred, gamma) + (1 - alpha) * (1 - y_true) * K.pow(y_pred, gamma)\n",
        "        return K.mean(weight * cross_entropy)\n",
        "    return loss_fn\n",
        "\n",
        "def build_model(input_shape):\n",
        "    model = models.Sequential([\n",
        "        layers.Dense(512, activation='relu', kernel_regularizer=regularizers.l2(0.001), input_shape=(input_shape,)),\n",
        "        layers.BatchNormalization(),\n",
        "        layers.Dropout(0.5),\n",
        "        layers.Dense(256, activation='relu', kernel_regularizer=regularizers.l2(0.001)),\n",
        "        layers.BatchNormalization(),\n",
        "        layers.Dropout(0.4),\n",
        "        layers.Dense(128, activation='relu', kernel_regularizer=regularizers.l2(0.001)),\n",
        "        layers.BatchNormalization(),\n",
        "        layers.Dropout(0.3),\n",
        "        layers.Dense(64, activation='relu'),\n",
        "        layers.BatchNormalization(),\n",
        "        layers.Dropout(0.2),\n",
        "        layers.Dense(1, activation='sigmoid')\n",
        "    ])\n",
        "    return model\n",
        "\n",
        "model = build_model(X_train_scaled.shape[1])\n",
        "model.compile(optimizer='adam', loss=focal_loss(gamma=2., alpha=0.25), metrics=['accuracy'])\n"
      ]
    },
    {
      "cell_type": "code",
      "execution_count": null,
      "metadata": {
        "colab": {
          "background_save": true,
          "base_uri": "https://localhost:8080/"
        },
        "id": "1Of1K5okCWKf",
        "outputId": "e92057ef-dc93-4efd-e412-05805d815c92"
      },
      "outputs": [
        {
          "name": "stdout",
          "output_type": "stream",
          "text": [
            "Epoch 1/50\n",
            "\u001b[1m14027/14027\u001b[0m \u001b[32m━━━━━━━━━━━━━━━━━━━━\u001b[0m\u001b[37m\u001b[0m \u001b[1m172s\u001b[0m 12ms/step - accuracy: 0.7994 - loss: 0.1480 - val_accuracy: 0.7037 - val_loss: 0.0372\n",
            "Epoch 2/50\n",
            "\u001b[1m14027/14027\u001b[0m \u001b[32m━━━━━━━━━━━━━━━━━━━━\u001b[0m\u001b[37m\u001b[0m \u001b[1m197s\u001b[0m 12ms/step - accuracy: 0.8109 - loss: 0.0373 - val_accuracy: 0.7063 - val_loss: 0.0347\n",
            "Epoch 3/50\n",
            "\u001b[1m14027/14027\u001b[0m \u001b[32m━━━━━━━━━━━━━━━━━━━━\u001b[0m\u001b[37m\u001b[0m \u001b[1m203s\u001b[0m 12ms/step - accuracy: 0.8108 - loss: 0.0353 - val_accuracy: 0.6680 - val_loss: 0.0369\n",
            "Epoch 4/50\n",
            "\u001b[1m14027/14027\u001b[0m \u001b[32m━━━━━━━━━━━━━━━━━━━━\u001b[0m\u001b[37m\u001b[0m \u001b[1m199s\u001b[0m 11ms/step - accuracy: 0.8116 - loss: 0.0344 - val_accuracy: 0.7266 - val_loss: 0.0324\n",
            "Epoch 5/50\n",
            "\u001b[1m14027/14027\u001b[0m \u001b[32m━━━━━━━━━━━━━━━━━━━━\u001b[0m\u001b[37m\u001b[0m \u001b[1m211s\u001b[0m 12ms/step - accuracy: 0.8138 - loss: 0.0337 - val_accuracy: 0.6922 - val_loss: 0.0328\n",
            "Epoch 6/50\n",
            "\u001b[1m14027/14027\u001b[0m \u001b[32m━━━━━━━━━━━━━━━━━━━━\u001b[0m\u001b[37m\u001b[0m \u001b[1m191s\u001b[0m 11ms/step - accuracy: 0.8129 - loss: 0.0336 - val_accuracy: 0.7150 - val_loss: 0.0326\n",
            "Epoch 7/50\n",
            "\u001b[1m14027/14027\u001b[0m \u001b[32m━━━━━━━━━━━━━━━━━━━━\u001b[0m\u001b[37m\u001b[0m \u001b[1m160s\u001b[0m 11ms/step - accuracy: 0.8144 - loss: 0.0333 - val_accuracy: 0.7106 - val_loss: 0.0307\n",
            "Epoch 8/50\n",
            "\u001b[1m14027/14027\u001b[0m \u001b[32m━━━━━━━━━━━━━━━━━━━━\u001b[0m\u001b[37m\u001b[0m \u001b[1m201s\u001b[0m 11ms/step - accuracy: 0.8133 - loss: 0.0332 - val_accuracy: 0.6885 - val_loss: 0.0367\n",
            "Epoch 9/50\n",
            "\u001b[1m14027/14027\u001b[0m \u001b[32m━━━━━━━━━━━━━━━━━━━━\u001b[0m\u001b[37m\u001b[0m \u001b[1m211s\u001b[0m 12ms/step - accuracy: 0.8131 - loss: 0.0332 - val_accuracy: 0.6938 - val_loss: 0.0316\n",
            "Epoch 10/50\n",
            "\u001b[1m14027/14027\u001b[0m \u001b[32m━━━━━━━━━━━━━━━━━━━━\u001b[0m\u001b[37m\u001b[0m \u001b[1m193s\u001b[0m 11ms/step - accuracy: 0.8135 - loss: 0.0332 - val_accuracy: 0.7796 - val_loss: 0.0292\n",
            "Epoch 11/50\n",
            "\u001b[1m14027/14027\u001b[0m \u001b[32m━━━━━━━━━━━━━━━━━━━━\u001b[0m\u001b[37m\u001b[0m \u001b[1m201s\u001b[0m 11ms/step - accuracy: 0.8132 - loss: 0.0330 - val_accuracy: 0.7596 - val_loss: 0.0306\n",
            "Epoch 12/50\n",
            "\u001b[1m14027/14027\u001b[0m \u001b[32m━━━━━━━━━━━━━━━━━━━━\u001b[0m\u001b[37m\u001b[0m \u001b[1m159s\u001b[0m 11ms/step - accuracy: 0.8139 - loss: 0.0329 - val_accuracy: 0.6941 - val_loss: 0.0318\n",
            "Epoch 13/50\n",
            "\u001b[1m14027/14027\u001b[0m \u001b[32m━━━━━━━━━━━━━━━━━━━━\u001b[0m\u001b[37m\u001b[0m \u001b[1m173s\u001b[0m 12ms/step - accuracy: 0.8134 - loss: 0.0329 - val_accuracy: 0.7348 - val_loss: 0.0308\n",
            "Epoch 14/50\n",
            "\u001b[1m14027/14027\u001b[0m \u001b[32m━━━━━━━━━━━━━━━━━━━━\u001b[0m\u001b[37m\u001b[0m \u001b[1m205s\u001b[0m 13ms/step - accuracy: 0.8136 - loss: 0.0328 - val_accuracy: 0.7496 - val_loss: 0.0302\n",
            "Epoch 15/50\n",
            "\u001b[1m14027/14027\u001b[0m \u001b[32m━━━━━━━━━━━━━━━━━━━━\u001b[0m\u001b[37m\u001b[0m \u001b[1m188s\u001b[0m 12ms/step - accuracy: 0.8123 - loss: 0.0330 - val_accuracy: 0.6893 - val_loss: 0.0320\n"
          ]
        }
      ],
      "source": [
        "cb = tf.keras.callbacks.EarlyStopping(monitor='val_loss', patience=5, restore_best_weights=True)\n",
        "\n",
        "history = model.fit(\n",
        "    X_train_scaled, y_train,\n",
        "    validation_split=0.2,\n",
        "    epochs=50,\n",
        "    batch_size=64,\n",
        "    callbacks=[cb],\n",
        "    verbose=1\n",
        ")\n"
      ]
    },
    {
      "cell_type": "code",
      "execution_count": null,
      "metadata": {
        "colab": {
          "background_save": true
        },
        "id": "_F_v8ZnICYtx",
        "outputId": "ca57d78f-a955-44a9-fe3d-c95e72a0db76"
      },
      "outputs": [
        {
          "name": "stdout",
          "output_type": "stream",
          "text": [
            "\u001b[1m6570/6570\u001b[0m \u001b[32m━━━━━━━━━━━━━━━━━━━━\u001b[0m\u001b[37m\u001b[0m \u001b[1m14s\u001b[0m 2ms/step\n",
            "🎯 Best Threshold: 0.24\n",
            "              precision    recall  f1-score   support\n",
            "\n",
            "           0       1.00      0.77      0.87    140187\n",
            "           1       0.68      1.00      0.81     70050\n",
            "\n",
            "    accuracy                           0.84    210237\n",
            "   macro avg       0.84      0.88      0.84    210237\n",
            "weighted avg       0.89      0.84      0.85    210237\n",
            "\n"
          ]
        },
        {
          "data": {
            "image/png": "[encoded data removed]",
            "text/plain": [
              "<Figure size 640x480 with 2 Axes>"
            ]
          },
          "metadata": {},
          "output_type": "display_data"
        }
      ],
      "source": [
        "y_probs = model.predict(X_test_scaled)\n",
        "prec, rec, thresholds = precision_recall_curve(y_test, y_probs)\n",
        "f1_scores = 2 * (prec * rec) / (prec + rec + 1e-8)\n",
        "best_thresh = thresholds[np.argmax(f1_scores)]\n",
        "\n",
        "print(f\"🎯 Best Threshold: {best_thresh:.2f}\")\n",
        "y_pred = (y_probs > best_thresh).astype(int)\n",
        "\n",
        "print(classification_report(y_test, y_pred))\n",
        "\n",
        "cm = confusion_matrix(y_test, y_pred)\n",
        "sns.heatmap(cm, annot=True, fmt='d', cmap='coolwarm')\n",
        "plt.title(\"Confusion Matrix - Final 95% Deep MLP\")\n",
        "plt.xlabel(\"Predicted\")\n",
        "plt.ylabel(\"Actual\")\n",
        "plt.show()\n"
      ]
    },
    {
      "cell_type": "code",
      "execution_count": null,
      "metadata": {
        "colab": {
          "background_save": true
        },
        "id": "CGBuTfVXrTy4"
      },
      "outputs": [],
      "source": [
        "from sklearn.preprocessing import LabelEncoder\n",
        "\n",
        "# Work on a new copy\n",
        "df_ext = df.copy()\n",
        "\n",
        "# Encode new categorical columns\n",
        "categorical_cols = ['Faculty', 'StudentType', 'WeatherCondition', 'DeviceUsed', 'LectureDifficulty']\n",
        "encoders = {}\n",
        "for col in categorical_cols:\n",
        "    le = LabelEncoder()\n",
        "    df_ext[col + '_enc'] = le.fit_transform(df_ext[col].astype(str))\n",
        "    encoders[col] = le\n",
        "\n",
        "# Add numeric and encoded features\n",
        "new_features = [\n",
        "    'GPA', 'AvgAttendanceRate', 'DaysAbsentLastWeek', 'YearOfStudy',\n",
        "    'LectureImportance', 'HadExamToday', 'IsFirstLecture'\n",
        "]\n",
        "encoded_features = [col + '_enc' for col in categorical_cols]\n",
        "\n",
        "# Final combined feature list\n",
        "final_features = features + new_features + encoded_features\n",
        "\n",
        "# Define new X and y\n",
        "X_new = df_ext[final_features]\n",
        "y_new = df_ext['label']\n"
      ]
    },
    {
      "cell_type": "code",
      "execution_count": null,
      "metadata": {
        "colab": {
          "background_save": true
        },
        "id": "HHLFFecKrWUs",
        "outputId": "6b968758-f644-4076-9546-5c12da337304"
      },
      "outputs": [
        {
          "name": "stdout",
          "output_type": "stream",
          "text": [
            "\n",
            "✅ Final Ensemble Model Performance:\n",
            "\n",
            "              precision    recall  f1-score   support\n",
            "\n",
            "           0       0.90      0.90      0.90    140187\n",
            "           1       0.80      0.80      0.80     70050\n",
            "\n",
            "    accuracy                           0.87    210237\n",
            "   macro avg       0.85      0.85      0.85    210237\n",
            "weighted avg       0.87      0.87      0.87    210237\n",
            "\n"
          ]
        }
      ],
      "source": [
        "from sklearn.ensemble import VotingClassifier, RandomForestClassifier\n",
        "from sklearn.neural_network import MLPClassifier\n",
        "from xgboost import XGBClassifier\n",
        "from sklearn.metrics import classification_report\n",
        "from imblearn.over_sampling import SMOTE\n",
        "from sklearn.model_selection import train_test_split\n",
        "\n",
        "# Split + resample\n",
        "X_train_new, X_test_new, y_train_new, y_test_new = train_test_split(X_new, y_new, test_size=0.2, random_state=42)\n",
        "sm = SMOTE(random_state=42)\n",
        "X_train_res_new, y_train_res_new = sm.fit_resample(X_train_new, y_train_new)\n",
        "\n",
        "# XGBoost\n",
        "xgb_clf = XGBClassifier(use_label_encoder=False, eval_metric='logloss', random_state=42,\n",
        "                        n_estimators=200, max_depth=6, learning_rate=0.1,\n",
        "                        subsample=0.8, colsample_bytree=0.8)\n",
        "xgb_clf.fit(X_train_res_new.values, y_train_res_new.values)\n",
        "\n",
        "\n",
        "# Ensemble\n",
        "ensemble_model = VotingClassifier(\n",
        "    estimators=[\n",
        "        ('xgb', xgb_clf),\n",
        "        ('mlp', MLPClassifier(hidden_layer_sizes=(100,), alpha=1e-4, max_iter=500, random_state=42)),\n",
        "        ('rf', RandomForestClassifier(n_estimators=100, random_state=42))\n",
        "    ],\n",
        "    voting='soft'\n",
        ")\n",
        "ensemble_model.fit(X_train_res_new.values, y_train_res_new.values)\n",
        "\n",
        "\n",
        "# Evaluate\n",
        "y_pred_ensemble = ensemble_model.predict(X_test_new.values)\n",
        "\n",
        "print(\"\\n✅ Final Ensemble Model Performance:\\n\")\n",
        "print(classification_report(y_test_new, y_pred_ensemble))\n"
      ]
    }
  ],
  "metadata": {
    "accelerator": "GPU",
    "colab": {
      "gpuType": "T4",
      "provenance": []
    },
    "kernelspec": {
      "display_name": "Python 3",
      "name": "python3"
    },
    "language_info": {
      "name": "python"
    }
  },
  "nbformat": 4,
  "nbformat_minor": 0
}